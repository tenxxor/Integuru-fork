{
 "cells": [
  {
   "cell_type": "code",
   "execution_count": 15,
   "metadata": {},
   "outputs": [
    {
     "name": "stdout",
     "output_type": "stream",
     "text": [
      "The autoreload extension is already loaded. To reload it, use:\n",
      "  %reload_ext autoreload\n"
     ]
    }
   ],
   "source": [
    "%load_ext autoreload\n",
    "%autoreload 2"
   ]
  },
  {
   "cell_type": "code",
   "execution_count": 16,
   "metadata": {},
   "outputs": [],
   "source": [
    "from typing import List\n",
    "from integuru.graph_builder import build_graph\n",
    "from integuru.util.LLM import llm\n",
    "from dotenv import load_dotenv\n",
    "import os\n",
    "load_dotenv()\n",
    "\n",
    "agent = None\n",
    "\n",
    "async def call_agent(\n",
    "    model: str,\n",
    "    prompt: str,\n",
    "    max_steps: int = 10,\n",
    "    har_file_path: str = \"turbo.har\",\n",
    "    cookie_path: str = \"turbo.json\",\n",
    "    input_variables: dict = None,\n",
    "):  \n",
    "\n",
    "    llm.set_default_model(model)\n",
    "    global agent\n",
    "    graph, agent = build_graph(prompt, har_file_path, cookie_path)\n",
    "    event_stream = graph.astream(\n",
    "        {\n",
    "            \"master_node\": None,\n",
    "            \"in_process_node\": None,\n",
    "            \"to_be_processed_nodes\": [],\n",
    "            \"in_process_node_dynamic_parts\": [],\n",
    "            \"action_url\": \"\",\n",
    "            \"input_variables\": input_variables or {},  \n",
    "        },\n",
    "        {\n",
    "            \"recursion_limit\": max_steps,\n",
    "        },\n",
    "    )\n",
    "    async for event in event_stream:\n",
    "        print(\"+++\", event)"
   ]
  },
  {
   "cell_type": "code",
   "execution_count": 17,
   "metadata": {},
   "outputs": [
    {
     "ename": "AttributeError",
     "evalue": "'str' object has no attribute 'get'",
     "output_type": "error",
     "traceback": [
      "\u001b[0;31m---------------------------------------------------------------------------\u001b[0m",
      "\u001b[0;31mAttributeError\u001b[0m                            Traceback (most recent call last)",
      "Cell \u001b[0;32mIn[17], line 9\u001b[0m\n\u001b[1;32m      6\u001b[0m cookie_path \u001b[38;5;241m=\u001b[39m \u001b[38;5;124m\"\u001b[39m\u001b[38;5;124mcookies.json\u001b[39m\u001b[38;5;124m\"\u001b[39m \n\u001b[1;32m      8\u001b[0m max_steps \u001b[38;5;241m=\u001b[39m \u001b[38;5;241m15\u001b[39m\n\u001b[0;32m----> 9\u001b[0m \u001b[38;5;28;01mawait\u001b[39;00m call_agent(model\u001b[38;5;241m=\u001b[39mmodel, prompt\u001b[38;5;241m=\u001b[39mprompt, har_file_path\u001b[38;5;241m=\u001b[39mhar_path, cookie_path\u001b[38;5;241m=\u001b[39mcookie_path, max_steps\u001b[38;5;241m=\u001b[39mmax_steps, input_variables\u001b[38;5;241m=\u001b[39minput_variables)\n",
      "Cell \u001b[0;32mIn[16], line 21\u001b[0m, in \u001b[0;36mcall_agent\u001b[0;34m(model, prompt, max_steps, har_file_path, cookie_path, input_variables)\u001b[0m\n\u001b[1;32m     19\u001b[0m llm\u001b[38;5;241m.\u001b[39mset_default_model(model)\n\u001b[1;32m     20\u001b[0m \u001b[38;5;28;01mglobal\u001b[39;00m agent\n\u001b[0;32m---> 21\u001b[0m graph, agent \u001b[38;5;241m=\u001b[39m \u001b[43mbuild_graph\u001b[49m\u001b[43m(\u001b[49m\u001b[43mprompt\u001b[49m\u001b[43m,\u001b[49m\u001b[43m \u001b[49m\u001b[43mhar_file_path\u001b[49m\u001b[43m,\u001b[49m\u001b[43m \u001b[49m\u001b[43mcookie_path\u001b[49m\u001b[43m)\u001b[49m\n\u001b[1;32m     22\u001b[0m event_stream \u001b[38;5;241m=\u001b[39m graph\u001b[38;5;241m.\u001b[39mastream(\n\u001b[1;32m     23\u001b[0m     {\n\u001b[1;32m     24\u001b[0m         \u001b[38;5;124m\"\u001b[39m\u001b[38;5;124mmaster_node\u001b[39m\u001b[38;5;124m\"\u001b[39m: \u001b[38;5;28;01mNone\u001b[39;00m,\n\u001b[0;32m   (...)\u001b[0m\n\u001b[1;32m     33\u001b[0m     },\n\u001b[1;32m     34\u001b[0m )\n\u001b[1;32m     35\u001b[0m \u001b[38;5;28;01masync\u001b[39;00m \u001b[38;5;28;01mfor\u001b[39;00m event \u001b[38;5;129;01min\u001b[39;00m event_stream:\n",
      "File \u001b[0;32m~/Integuru-fork/integuru/graph_builder.py:23\u001b[0m, in \u001b[0;36mbuild_graph\u001b[0;34m(prompt, har_file_path, cookie_path, to_generate_code)\u001b[0m\n\u001b[1;32m     22\u001b[0m \u001b[38;5;28;01mdef\u001b[39;00m \u001b[38;5;21mbuild_graph\u001b[39m(prompt, har_file_path\u001b[38;5;241m=\u001b[39m\u001b[38;5;124m\"\u001b[39m\u001b[38;5;124mnetwork_requests.har\u001b[39m\u001b[38;5;124m\"\u001b[39m, cookie_path\u001b[38;5;241m=\u001b[39m\u001b[38;5;124m\"\u001b[39m\u001b[38;5;124mcookies.json\u001b[39m\u001b[38;5;124m\"\u001b[39m, to_generate_code\u001b[38;5;241m=\u001b[39m\u001b[38;5;28;01mFalse\u001b[39;00m):\n\u001b[0;32m---> 23\u001b[0m     agent \u001b[38;5;241m=\u001b[39m \u001b[43mIntegrationAgent\u001b[49m\u001b[43m(\u001b[49m\u001b[43mprompt\u001b[49m\u001b[43m,\u001b[49m\u001b[43m \u001b[49m\u001b[43mhar_file_path\u001b[49m\u001b[43m,\u001b[49m\u001b[43m \u001b[49m\u001b[43mcookie_path\u001b[49m\u001b[43m)\u001b[49m\n\u001b[1;32m     25\u001b[0m     graph_builder \u001b[38;5;241m=\u001b[39m StateGraph(AgentState)\n\u001b[1;32m     27\u001b[0m     \u001b[38;5;66;03m# Add nodes using the agent's methods\u001b[39;00m\n",
      "File \u001b[0;32m~/Integuru-fork/integuru/agent.py:32\u001b[0m, in \u001b[0;36mIntegrationAgent.__init__\u001b[0;34m(self, prompt, har_file_path, cookie_path)\u001b[0m\n\u001b[1;32m     30\u001b[0m \u001b[38;5;28mself\u001b[39m\u001b[38;5;241m.\u001b[39mreq_to_res_map: Dict[Request, \u001b[38;5;28mstr\u001b[39m] \u001b[38;5;241m=\u001b[39m parse_har_file(har_file_path)\n\u001b[1;32m     31\u001b[0m \u001b[38;5;28mself\u001b[39m\u001b[38;5;241m.\u001b[39murl_to_res_req_dict: Dict[\u001b[38;5;28mstr\u001b[39m, Dict[\u001b[38;5;28mstr\u001b[39m, Any]] \u001b[38;5;241m=\u001b[39m build_url_to_req_res_map(\u001b[38;5;28mself\u001b[39m\u001b[38;5;241m.\u001b[39mreq_to_res_map)\n\u001b[0;32m---> 32\u001b[0m \u001b[38;5;28mself\u001b[39m\u001b[38;5;241m.\u001b[39mhar_urls: List[Tuple[\u001b[38;5;28mstr\u001b[39m, \u001b[38;5;28mstr\u001b[39m, \u001b[38;5;28mstr\u001b[39m, \u001b[38;5;28mstr\u001b[39m]] \u001b[38;5;241m=\u001b[39m \u001b[43mget_har_urls\u001b[49m\u001b[43m(\u001b[49m\u001b[43mhar_file_path\u001b[49m\u001b[43m)\u001b[49m\n\u001b[1;32m     33\u001b[0m \u001b[38;5;28mself\u001b[39m\u001b[38;5;241m.\u001b[39mcookie_dict: Dict[\u001b[38;5;28mstr\u001b[39m, Dict[\u001b[38;5;28mstr\u001b[39m, Any]] \u001b[38;5;241m=\u001b[39m parse_cookie_file_to_dict(cookie_path)\n\u001b[1;32m     34\u001b[0m \u001b[38;5;28mself\u001b[39m\u001b[38;5;241m.\u001b[39mcurl_to_id_dict: Dict[\u001b[38;5;28mstr\u001b[39m, \u001b[38;5;28mstr\u001b[39m] \u001b[38;5;241m=\u001b[39m {}\n",
      "File \u001b[0;32m~/Integuru-fork/integuru/util/har_processing.py:203\u001b[0m, in \u001b[0;36mget_har_urls\u001b[0;34m(har_file_path)\u001b[0m\n\u001b[1;32m    200\u001b[0m     request_text \u001b[38;5;241m+\u001b[39m\u001b[38;5;241m=\u001b[39m header\u001b[38;5;241m.\u001b[39mget(\u001b[38;5;124m\"\u001b[39m\u001b[38;5;124mname\u001b[39m\u001b[38;5;124m\"\u001b[39m, \u001b[38;5;124m\"\u001b[39m\u001b[38;5;124m\"\u001b[39m)\u001b[38;5;241m.\u001b[39mlower()\n\u001b[1;32m    201\u001b[0m     request_text \u001b[38;5;241m+\u001b[39m\u001b[38;5;241m=\u001b[39m header\u001b[38;5;241m.\u001b[39mget(\u001b[38;5;124m\"\u001b[39m\u001b[38;5;124mvalue\u001b[39m\u001b[38;5;124m\"\u001b[39m, \u001b[38;5;124m\"\u001b[39m\u001b[38;5;124m\"\u001b[39m)\u001b[38;5;241m.\u001b[39mlower()\n\u001b[0;32m--> 203\u001b[0m postData \u001b[38;5;241m=\u001b[39m \u001b[43mrequest\u001b[49m\u001b[38;5;241;43m.\u001b[39;49m\u001b[43mget\u001b[49m\u001b[43m(\u001b[49m\u001b[38;5;124;43m\"\u001b[39;49m\u001b[38;5;124;43mpostData\u001b[39;49m\u001b[38;5;124;43m\"\u001b[39;49m\u001b[43m,\u001b[49m\u001b[43m \u001b[49m\u001b[43m{\u001b[49m\u001b[43m}\u001b[49m\u001b[43m)\u001b[49m\u001b[38;5;241;43m.\u001b[39;49m\u001b[43mget\u001b[49m(\u001b[38;5;124m\"\u001b[39m\u001b[38;5;124mtext\u001b[39m\u001b[38;5;124m\"\u001b[39m, \u001b[38;5;124m\"\u001b[39m\u001b[38;5;124m\"\u001b[39m)\u001b[38;5;241m.\u001b[39mlower()\n\u001b[1;32m    204\u001b[0m request_text \u001b[38;5;241m+\u001b[39m\u001b[38;5;241m=\u001b[39m postData\n\u001b[1;32m    206\u001b[0m \u001b[38;5;66;03m# Exclude URLs with the specified extensions or if keywords are in the request\u001b[39;00m\n\u001b[1;32m    207\u001b[0m \u001b[38;5;66;03m# this is done to reduce the number of requests we send to the LLM\u001b[39;00m\n",
      "\u001b[0;31mAttributeError\u001b[0m: 'str' object has no attribute 'get'"
     ]
    }
   ],
   "source": [
    "\n",
    "model = \"gpt-4o\"\n",
    "prompt = \"go to google\"\n",
    "input_variables = {\n",
    "}\n",
    "har_path = \"network_requests_20241223025356.har\"\n",
    "cookie_path = \"cookies.json\" \n",
    "\n",
    "max_steps = 15\n",
    "await call_agent(model=model, prompt=prompt, har_file_path=har_path, cookie_path=cookie_path, max_steps=max_steps, input_variables=input_variables)"
   ]
  },
  {
   "cell_type": "code",
   "execution_count": null,
   "metadata": {},
   "outputs": [],
   "source": [
    "from integuru.util.print import *\n",
    "\n",
    "print_dag(agent.dag_manager.graph, agent.global_master_node_id)"
   ]
  },
  {
   "cell_type": "code",
   "execution_count": null,
   "metadata": {},
   "outputs": [],
   "source": [
    "print_dag_in_reverse(agent.dag_manager.graph, to_generate_code=True)"
   ]
  },
  {
   "cell_type": "code",
   "execution_count": null,
   "metadata": {},
   "outputs": [],
   "source": []
  }
 ],
 "metadata": {
  "kernelspec": {
   "display_name": ".venv",
   "language": "python",
   "name": "python3"
  },
  "language_info": {
   "codemirror_mode": {
    "name": "ipython",
    "version": 3
   },
   "file_extension": ".py",
   "mimetype": "text/x-python",
   "name": "python",
   "nbconvert_exporter": "python",
   "pygments_lexer": "ipython3",
   "version": "3.12.8"
  }
 },
 "nbformat": 4,
 "nbformat_minor": 2
}
